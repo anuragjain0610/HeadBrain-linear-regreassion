{
 "cells": [
  {
   "cell_type": "code",
   "execution_count": 46,
   "metadata": {},
   "outputs": [
    {
     "name": "stdout",
     "output_type": "stream",
     "text": [
      "     Gender  Age Range  Head Size(cm^3)  Brain Weight(grams)\n",
      "0         1          1             4512                 1530\n",
      "1         1          1             3738                 1297\n",
      "2         1          1             4261                 1335\n",
      "3         1          1             3777                 1282\n",
      "4         1          1             4177                 1590\n",
      "5         1          1             3585                 1300\n",
      "6         1          1             3785                 1400\n",
      "7         1          1             3559                 1255\n",
      "8         1          1             3613                 1355\n",
      "9         1          1             3982                 1375\n",
      "10        1          1             3443                 1340\n",
      "11        1          1             3993                 1380\n",
      "12        1          1             3640                 1355\n",
      "13        1          1             4208                 1522\n",
      "14        1          1             3832                 1208\n",
      "15        1          1             3876                 1405\n",
      "16        1          1             3497                 1358\n",
      "17        1          1             3466                 1292\n",
      "18        1          1             3095                 1340\n",
      "19        1          1             4424                 1400\n",
      "20        1          1             3878                 1357\n",
      "21        1          1             4046                 1287\n",
      "22        1          1             3804                 1275\n",
      "23        1          1             3710                 1270\n",
      "24        1          1             4747                 1635\n",
      "25        1          1             4423                 1505\n",
      "26        1          1             4036                 1490\n",
      "27        1          1             4022                 1485\n",
      "28        1          1             3454                 1310\n",
      "29        1          1             4175                 1420\n",
      "..      ...        ...              ...                  ...\n",
      "207       2          2             3995                 1296\n",
      "208       2          2             3318                 1175\n",
      "209       2          2             2720                  955\n",
      "210       2          2             2937                 1070\n",
      "211       2          2             3580                 1320\n",
      "212       2          2             2939                 1060\n",
      "213       2          2             2989                 1130\n",
      "214       2          2             3586                 1250\n",
      "215       2          2             3156                 1225\n",
      "216       2          2             3246                 1180\n",
      "217       2          2             3170                 1178\n",
      "218       2          2             3268                 1142\n",
      "219       2          2             3389                 1130\n",
      "220       2          2             3381                 1185\n",
      "221       2          2             2864                 1012\n",
      "222       2          2             3740                 1280\n",
      "223       2          2             3479                 1103\n",
      "224       2          2             3647                 1408\n",
      "225       2          2             3716                 1300\n",
      "226       2          2             3284                 1246\n",
      "227       2          2             4204                 1380\n",
      "228       2          2             3735                 1350\n",
      "229       2          2             3218                 1060\n",
      "230       2          2             3685                 1350\n",
      "231       2          2             3704                 1220\n",
      "232       2          2             3214                 1110\n",
      "233       2          2             3394                 1215\n",
      "234       2          2             3233                 1104\n",
      "235       2          2             3352                 1170\n",
      "236       2          2             3391                 1120\n",
      "\n",
      "[237 rows x 4 columns]\n"
     ]
    }
   ],
   "source": [
    "import numpy as np\n",
    "import pandas as pd\n",
    "import matplotlib.pyplot as plt\n",
    "%matplotlib inline\n",
    "data=pd.read_csv('headbrain.csv')\n",
    "print(data)"
   ]
  },
  {
   "cell_type": "code",
   "execution_count": 47,
   "metadata": {},
   "outputs": [
    {
     "name": "stdout",
     "output_type": "stream",
     "text": [
      "(237, 4)\n"
     ]
    }
   ],
   "source": [
    "print(data.shape)"
   ]
  },
  {
   "cell_type": "code",
   "execution_count": 48,
   "metadata": {},
   "outputs": [
    {
     "data": {
      "text/html": [
       "<div>\n",
       "<style scoped>\n",
       "    .dataframe tbody tr th:only-of-type {\n",
       "        vertical-align: middle;\n",
       "    }\n",
       "\n",
       "    .dataframe tbody tr th {\n",
       "        vertical-align: top;\n",
       "    }\n",
       "\n",
       "    .dataframe thead th {\n",
       "        text-align: right;\n",
       "    }\n",
       "</style>\n",
       "<table border=\"1\" class=\"dataframe\">\n",
       "  <thead>\n",
       "    <tr style=\"text-align: right;\">\n",
       "      <th></th>\n",
       "      <th>Gender</th>\n",
       "      <th>Age Range</th>\n",
       "      <th>Head Size(cm^3)</th>\n",
       "      <th>Brain Weight(grams)</th>\n",
       "    </tr>\n",
       "  </thead>\n",
       "  <tbody>\n",
       "    <tr>\n",
       "      <th>0</th>\n",
       "      <td>1</td>\n",
       "      <td>1</td>\n",
       "      <td>4512</td>\n",
       "      <td>1530</td>\n",
       "    </tr>\n",
       "    <tr>\n",
       "      <th>1</th>\n",
       "      <td>1</td>\n",
       "      <td>1</td>\n",
       "      <td>3738</td>\n",
       "      <td>1297</td>\n",
       "    </tr>\n",
       "    <tr>\n",
       "      <th>2</th>\n",
       "      <td>1</td>\n",
       "      <td>1</td>\n",
       "      <td>4261</td>\n",
       "      <td>1335</td>\n",
       "    </tr>\n",
       "    <tr>\n",
       "      <th>3</th>\n",
       "      <td>1</td>\n",
       "      <td>1</td>\n",
       "      <td>3777</td>\n",
       "      <td>1282</td>\n",
       "    </tr>\n",
       "    <tr>\n",
       "      <th>4</th>\n",
       "      <td>1</td>\n",
       "      <td>1</td>\n",
       "      <td>4177</td>\n",
       "      <td>1590</td>\n",
       "    </tr>\n",
       "  </tbody>\n",
       "</table>\n",
       "</div>"
      ],
      "text/plain": [
       "   Gender  Age Range  Head Size(cm^3)  Brain Weight(grams)\n",
       "0       1          1             4512                 1530\n",
       "1       1          1             3738                 1297\n",
       "2       1          1             4261                 1335\n",
       "3       1          1             3777                 1282\n",
       "4       1          1             4177                 1590"
      ]
     },
     "execution_count": 48,
     "metadata": {},
     "output_type": "execute_result"
    }
   ],
   "source": [
    "data.head()"
   ]
  },
  {
   "cell_type": "code",
   "execution_count": 49,
   "metadata": {},
   "outputs": [
    {
     "name": "stdout",
     "output_type": "stream",
     "text": [
      "0      4512\n",
      "1      3738\n",
      "2      4261\n",
      "3      3777\n",
      "4      4177\n",
      "5      3585\n",
      "6      3785\n",
      "7      3559\n",
      "8      3613\n",
      "9      3982\n",
      "10     3443\n",
      "11     3993\n",
      "12     3640\n",
      "13     4208\n",
      "14     3832\n",
      "15     3876\n",
      "16     3497\n",
      "17     3466\n",
      "18     3095\n",
      "19     4424\n",
      "20     3878\n",
      "21     4046\n",
      "22     3804\n",
      "23     3710\n",
      "24     4747\n",
      "25     4423\n",
      "26     4036\n",
      "27     4022\n",
      "28     3454\n",
      "29     4175\n",
      "       ... \n",
      "207    3995\n",
      "208    3318\n",
      "209    2720\n",
      "210    2937\n",
      "211    3580\n",
      "212    2939\n",
      "213    2989\n",
      "214    3586\n",
      "215    3156\n",
      "216    3246\n",
      "217    3170\n",
      "218    3268\n",
      "219    3389\n",
      "220    3381\n",
      "221    2864\n",
      "222    3740\n",
      "223    3479\n",
      "224    3647\n",
      "225    3716\n",
      "226    3284\n",
      "227    4204\n",
      "228    3735\n",
      "229    3218\n",
      "230    3685\n",
      "231    3704\n",
      "232    3214\n",
      "233    3394\n",
      "234    3233\n",
      "235    3352\n",
      "236    3391\n",
      "Name: Head Size(cm^3), Length: 237, dtype: int64\n"
     ]
    }
   ],
   "source": [
    "X=data['Head Size(cm^3)']\n",
    "Y=data['Brain Weight(grams)']\n",
    "print(X)"
   ]
  },
  {
   "cell_type": "code",
   "execution_count": 50,
   "metadata": {},
   "outputs": [
    {
     "name": "stdout",
     "output_type": "stream",
     "text": [
      "0.26342933948939945 325.57342104944223\n"
     ]
    }
   ],
   "source": [
    "#mean of x and y\n",
    "mean_x=np.mean(X)\n",
    "mean_y=np.mean(Y)\n",
    "\n",
    "#total no of values\n",
    "n=len(X)\n",
    "\n",
    "#find b1 and b0\n",
    "numer=0\n",
    "denom=0\n",
    "for i in range(n):\n",
    "    numer+=(X[i]-mean_x)*(Y[i]-mean_y)\n",
    "    denom+=(X[i]-mean_x)**2\n",
    "b1=numer/denom\n",
    "b0=mean_y-(b1*mean_x)\n",
    "print(b1,b0)"
   ]
  },
  {
   "cell_type": "code",
   "execution_count": 51,
   "metadata": {},
   "outputs": [
    {
     "name": "stdout",
     "output_type": "stream",
     "text": [
      "[0. 0. 0. 0. 0. 0. 0. 0.] [ 0.          1.42857143  2.85714286  4.28571429  5.71428571  7.14285714\n",
      "  8.57142857 10.        ]\n"
     ]
    },
    {
     "data": {
      "image/png": "[encoded data removed]",
      "text/plain": [
       "<Figure size 432x288 with 1 Axes>"
      ]
     },
     "metadata": {
      "needs_background": "light"
     },
     "output_type": "display_data"
    }
   ],
   "source": [
    "#Example\n",
    "import matplotlib.pyplot as plt\n",
    "N = 8\n",
    "y = np.zeros(N)\n",
    "x1 = np.linspace(0, 10, N, endpoint=True)\n",
    "x2 = np.linspace(0, 10, N, endpoint=False)\n",
    "plt.plot(x1, y, 'o')\n",
    "print(y,x1)\n",
    "plt.plot(x2, y + 0.5, 'o')\n",
    "\n",
    "plt.ylim([-0.5, 1])\n",
    "\n",
    "plt.show()\n"
   ]
  },
  {
   "cell_type": "code",
   "execution_count": 52,
   "metadata": {},
   "outputs": [
    {
     "data": {
      "image/png": "[encoded data removed]",
      "text/plain": [
       "<Figure size 432x288 with 1 Axes>"
      ]
     },
     "metadata": {
      "needs_background": "light"
     },
     "output_type": "display_data"
    }
   ],
   "source": [
    "#plotting\n",
    "max_x=np.max(X)+100\n",
    "min_x=np.min(X)-100\n",
    "\n",
    "#calc x and y\n",
    "x=np.linspace(min_x,max_x,1000)\n",
    "y=b0+(b1*x)\n",
    "\n",
    "#plotting line\n",
    "plt.plot(x,y,label='Regression line')\n",
    "#plotting scatter points\n",
    "plt.plot(X,Y,'o',label='Scatter Plot')\n",
    "plt.xlabel('Head Size(cm^3)')\n",
    "plt.ylabel('Brain Weight(grams)')\n",
    "plt.legend()\n",
    "plt.show()"
   ]
  },
  {
   "cell_type": "code",
   "execution_count": 53,
   "metadata": {},
   "outputs": [
    {
     "name": "stdout",
     "output_type": "stream",
     "text": [
      "63.93117199570003\n"
     ]
    }
   ],
   "source": [
    "#R^2  Method to get accuracy\n",
    "ss_r=0\n",
    "ss_t=0\n",
    "for i in range(n):\n",
    "    yp=b0+(b1*X[i])\n",
    "    ss_r+=(Y[i]-yp)**2\n",
    "    ss_t+=(Y[i]-mean_y)**2\n",
    "r2=(1-ss_r/ss_t)*100\n",
    "print(r2)"
   ]
  },
  {
   "cell_type": "code",
   "execution_count": 80,
   "metadata": {},
   "outputs": [
    {
     "name": "stdout",
     "output_type": "stream",
     "text": [
      "63.9311719957\n"
     ]
    },
    {
     "data": {
      "text/plain": [
       "<matplotlib.collections.PathCollection at 0x7fc5e0394d68>"
      ]
     },
     "execution_count": 80,
     "metadata": {},
     "output_type": "execute_result"
    },
    {
     "data": {
      "image/png": "[encoded data removed]",
      "text/plain": [
       "<Figure size 432x288 with 1 Axes>"
      ]
     },
     "metadata": {
      "needs_background": "light"
     },
     "output_type": "display_data"
    }
   ],
   "source": [
    "#using scikit learn library\n",
    "from sklearn.linear_model import LinearRegression\n",
    "from sklearn.metrics import mean_squared_error\n",
    "X=data['Head Size(cm^3)'].values  #converting into a list of values\n",
    "X=X.reshape((n,1))\n",
    "reg=LinearRegression()\n",
    "reg=reg.fit(X,Y)\n",
    "yp=reg.predict(X)\n",
    "r2=reg.score(X,Y)*100\n",
    "print(r2)\n",
    "plt.plot(X,yp)\n",
    "plt.scatter(X,Y)"
   ]
  },
  {
   "cell_type": "code",
   "execution_count": 74,
   "metadata": {},
   "outputs": [],
   "source": [
    "b0=reg.intercept_\n"
   ]
  },
  {
   "cell_type": "code",
   "execution_count": 75,
   "metadata": {},
   "outputs": [],
   "source": [
    "b1=reg.coef_[0]"
   ]
  },
  {
   "cell_type": "code",
   "execution_count": 82,
   "metadata": {},
   "outputs": [
    {
     "data": {
      "image/png": "[encoded data removed]",
      "text/plain": [
       "<Figure size 432x288 with 1 Axes>"
      ]
     },
     "metadata": {
      "needs_background": "light"
     },
     "output_type": "display_data"
    }
   ],
   "source": [
    "#plotting\n",
    "max_x=np.max(X)+100\n",
    "min_x=np.min(X)-100\n",
    "\n",
    "#calc x and y\n",
    "x=np.linspace(min_x,max_x,1000)\n",
    "y=b0+(b1*x)\n",
    "\n",
    "#plotting line\n",
    "plt.plot(x,y,label='Regression line')\n",
    "#plotting scatter points\n",
    "plt.plot(X,Y,'o',label='Scatter Plot')\n",
    "plt.xlabel('Head Size(cm^3)')\n",
    "plt.ylabel('Brain Weight(grams)')\n",
    "plt.yticks(rotation=0)\n",
    "plt.xticks(rotation=90)\n",
    "plt.legend()\n",
    "plt.show()"
   ]
  },
  {
   "cell_type": "code",
   "execution_count": null,
   "metadata": {},
   "outputs": [],
   "source": []
  }
 ],
 "metadata": {
  "kernelspec": {
   "display_name": "Python 3",
   "language": "python",
   "name": "python3"
  },
  "language_info": {
   "codemirror_mode": {
    "name": "ipython",
    "version": 3
   },
   "file_extension": ".py",
   "mimetype": "text/x-python",
   "name": "python",
   "nbconvert_exporter": "python",
   "pygments_lexer": "ipython3",
   "version": "3.7.1"
  }
 },
 "nbformat": 4,
 "nbformat_minor": 2
}
